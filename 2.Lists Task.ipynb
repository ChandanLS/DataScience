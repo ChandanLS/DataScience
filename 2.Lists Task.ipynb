{
 "cells": [
  {
   "cell_type": "code",
   "execution_count": 1,
   "id": "95d803f1",
   "metadata": {},
   "outputs": [
    {
     "name": "stdout",
     "output_type": "stream",
     "text": [
      "[2, 1, 1, 4, 5]\n"
     ]
    }
   ],
   "source": [
    "#Task 3.1\n",
    "#Inbuilt Methods\n",
    "#Remove\n",
    "\n",
    "list1 = [ 1, 2, 1, 1, 4, 5 ]\n",
    "list1.remove(1)\n",
    "print(list1)"
   ]
  },
  {
   "cell_type": "code",
   "execution_count": 2,
   "id": "9c6b693a",
   "metadata": {},
   "outputs": [
    {
     "name": "stdout",
     "output_type": "stream",
     "text": [
      "3\n"
     ]
    }
   ],
   "source": [
    "#Count \n",
    "\n",
    "a = \"check the count of the inbult built function of the python\" \n",
    "print(a.count(\"the\"))"
   ]
  },
  {
   "cell_type": "code",
   "execution_count": 3,
   "id": "8e0ebafa",
   "metadata": {},
   "outputs": [
    {
     "name": "stdout",
     "output_type": "stream",
     "text": [
      "beofre clearing [1, 2, 3, 4, 5, 6, 7, 8]\n",
      "after clearing []\n"
     ]
    }
   ],
   "source": [
    "#Clear\n",
    "\n",
    "a=[1,2,3,4,5,6,7,8]\n",
    "print('beofre clearing',a)\n",
    "a.clear()\n",
    "print('after clearing',a)"
   ]
  },
  {
   "cell_type": "code",
   "execution_count": 5,
   "id": "20c11b4b",
   "metadata": {},
   "outputs": [
    {
     "name": "stdout",
     "output_type": "stream",
     "text": [
      "[1.68, 2.0, 2.01, 3.28, 3.67]\n"
     ]
    }
   ],
   "source": [
    "#Sort\n",
    "#Forward \n",
    "b = [2.01, 2.00, 3.67, 3.28, 1.68]\n",
    "b.sort()\n",
    "print(b)"
   ]
  },
  {
   "cell_type": "code",
   "execution_count": 7,
   "id": "d55de397",
   "metadata": {},
   "outputs": [
    {
     "name": "stdout",
     "output_type": "stream",
     "text": [
      "[5, 4, 3, 2, 1, 0]\n"
     ]
    }
   ],
   "source": [
    "#Reverse\n",
    "numbers = [1, 3, 4, 2,5,0]\n",
    "numbers.sort(reverse=True)\n",
    "print(numbers)"
   ]
  },
  {
   "cell_type": "code",
   "execution_count": 8,
   "id": "04719721",
   "metadata": {},
   "outputs": [
    {
     "name": "stdout",
     "output_type": "stream",
     "text": [
      "[6, 2, 1, 4, 3, 2, 1]\n"
     ]
    }
   ],
   "source": [
    "#List Reverse()\n",
    "list1 = [1, 2, 3, 4, 1, 2, 6]\n",
    "list1.reverse()\n",
    "print(list1)"
   ]
  },
  {
   "cell_type": "code",
   "execution_count": 9,
   "id": "d827e8ac",
   "metadata": {},
   "outputs": [
    {
     "data": {
      "text/plain": [
       "11"
      ]
     },
     "execution_count": 9,
     "metadata": {},
     "output_type": "execute_result"
    }
   ],
   "source": [
    "#Task-3.2\n",
    "# create a list of lenght = 10 and access 5th to 8th data.\n",
    "list=[1,2,3,4,5,6,7,8,9,10,11]\n",
    "len(list)"
   ]
  },
  {
   "cell_type": "code",
   "execution_count": 10,
   "id": "852908c1",
   "metadata": {},
   "outputs": [
    {
     "data": {
      "text/plain": [
       "6"
      ]
     },
     "execution_count": 10,
     "metadata": {},
     "output_type": "execute_result"
    }
   ],
   "source": [
    "list[5]"
   ]
  },
  {
   "cell_type": "code",
   "execution_count": 11,
   "id": "92ff8754",
   "metadata": {},
   "outputs": [
    {
     "data": {
      "text/plain": [
       "9"
      ]
     },
     "execution_count": 11,
     "metadata": {},
     "output_type": "execute_result"
    }
   ],
   "source": [
    "list[8]"
   ]
  },
  {
   "cell_type": "code",
   "execution_count": 25,
   "id": "2a171ec2",
   "metadata": {},
   "outputs": [
    {
     "name": "stdout",
     "output_type": "stream",
     "text": [
      "[10, 20, [30, 40, [50, 60, 70], 80], 90, 100]\n"
     ]
    }
   ],
   "source": [
    "#Task-04\n",
    "\n",
    "#Add item 70 after 60 in the following Python List\n",
    "\n",
    "list1 = [10, 20, [30, 40, [50, 60], 80], 90, 100]\n",
    "list1[2][2].insert(2,70)\n",
    "print(list1)"
   ]
  },
  {
   "cell_type": "code",
   "execution_count": null,
   "id": "d2aab5ab",
   "metadata": {},
   "outputs": [],
   "source": [
    "#add sublist [7,8] after 6\n",
    "\n",
    "list2 = [1,2,[3,4,5,6],9]\n",
    "list2[2].insert()\n",
    "#output\n",
    "[1,2,[3,4,5,6,[7,8]],9]"
   ]
  }
 ],
 "metadata": {
  "kernelspec": {
   "display_name": "Python 3",
   "language": "python",
   "name": "python3"
  },
  "language_info": {
   "codemirror_mode": {
    "name": "ipython",
    "version": 3
   },
   "file_extension": ".py",
   "mimetype": "text/x-python",
   "name": "python",
   "nbconvert_exporter": "python",
   "pygments_lexer": "ipython3",
   "version": "3.8.8"
  }
 },
 "nbformat": 4,
 "nbformat_minor": 5
}
