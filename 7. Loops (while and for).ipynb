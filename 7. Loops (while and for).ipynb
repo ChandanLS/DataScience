{
 "cells": [
  {
   "cell_type": "code",
   "execution_count": 6,
   "id": "5b76ad69",
   "metadata": {},
   "outputs": [
    {
     "data": {
      "text/plain": [
       "' Continue statement is a loop control statement that forces to execute the next iteration of the loop while skipping the rest of the code inside the loop for the current iteration only i.e. \\nwhen the continue statement is executed in the loop, \\nthe code inside the loop following the continue statement will be skipped for the current iteration and\\nthe next iteration of the loop will begin. '"
      ]
     },
     "execution_count": 6,
     "metadata": {},
     "output_type": "execute_result"
    }
   ],
   "source": [
    "#Task 10.1 = what is the uasge of continue wiith an example.\n",
    "\n",
    "''' Continue statement is a loop control statement that forces to execute the next iteration of the loop while skipping the rest of the code inside the loop for the current iteration only i.e. \n",
    "when the continue statement is executed in the loop, \n",
    "the code inside the loop following the continue statement will be skipped for the current iteration and\n",
    "the next iteration of the loop will begin. '''"
   ]
  },
  {
   "cell_type": "code",
   "execution_count": 5,
   "id": "72ffc6f6",
   "metadata": {},
   "outputs": [
    {
     "name": "stdout",
     "output_type": "stream",
     "text": [
      "1 2 3 4 5 7 8 9 10 "
     ]
    }
   ],
   "source": [
    "#Example for continue\n",
    "\n",
    "for i in range(1, 11):\n",
    " \n",
    "    # If i is equals to 6,\n",
    "    # continue to next iteration\n",
    "    # without printing\n",
    "    if i == 6:\n",
    "        continue\n",
    "    else:\n",
    "        # otherwise print the value\n",
    "        # of i\n",
    "        print(i,end=\" \")"
   ]
  },
  {
   "cell_type": "code",
   "execution_count": 8,
   "id": "1fb1dced",
   "metadata": {},
   "outputs": [
    {
     "data": {
      "text/plain": [
       "'The pass statement is a null statement. \\nBut the difference between pass and comment is that comment is ignored by the interpreter whereas pass is not ignored. '"
      ]
     },
     "execution_count": 8,
     "metadata": {},
     "output_type": "execute_result"
    }
   ],
   "source": [
    "# Task 10.2 What is pass keyword, with example.\n",
    "'''The pass statement is a null statement. \n",
    "But the difference between pass and comment is that comment is ignored by the interpreter whereas pass is not ignored. '''\n"
   ]
  },
  {
   "cell_type": "code",
   "execution_count": 9,
   "id": "d1180335",
   "metadata": {},
   "outputs": [
    {
     "name": "stdout",
     "output_type": "stream",
     "text": [
      "b\n",
      "c\n",
      "d\n"
     ]
    }
   ],
   "source": [
    "# Pass Example :\n",
    "\n",
    "li =['a', 'b', 'c', 'd']\n",
    " \n",
    "for i in li:\n",
    "    if(i =='a'):\n",
    "        pass\n",
    "    else:\n",
    "        print(i)"
   ]
  },
  {
   "cell_type": "code",
   "execution_count": 1,
   "id": "d381ce61",
   "metadata": {},
   "outputs": [
    {
     "name": "stdout",
     "output_type": "stream",
     "text": [
      "10 9 8 7 6 5 4 3 2 1 "
     ]
    }
   ],
   "source": [
    "#Task10\n",
    "#using while loop print numbers from 10 to 1\n",
    "\n",
    "count=10\n",
    "while(count>0):\n",
    "    print(count,end=\" \")\n",
    "    count=count-1\n"
   ]
  },
  {
   "cell_type": "code",
   "execution_count": 2,
   "id": "1c98e6d3",
   "metadata": {},
   "outputs": [
    {
     "name": "stdout",
     "output_type": "stream",
     "text": [
      "apple\n",
      "banana\n",
      "cherry\n"
     ]
    }
   ],
   "source": [
    "#Task10\n",
    "# using for loop to loop over tuples.\n",
    "\n",
    "Fruits = (\"apple\", \"banana\", \"cherry\")\n",
    "for i in range(len(Fruits)):\n",
    "  print(Fruits[i])"
   ]
  },
  {
   "cell_type": "code",
   "execution_count": 3,
   "id": "cee5fb3b",
   "metadata": {},
   "outputs": [
    {
     "name": "stdout",
     "output_type": "stream",
     "text": [
      "color\n",
      "fruit\n",
      "pet\n",
      "blue\n",
      "apple\n",
      "dog\n",
      "('color', 'blue')\n",
      "('fruit', 'apple')\n",
      "('pet', 'dog')\n"
     ]
    }
   ],
   "source": [
    "# using for loop to loop over dictionaries.\n",
    "\n",
    "dict = {'color': 'blue', 'fruit': 'apple', 'pet': 'dog'}\n",
    " \n",
    "for key in dict.keys():\n",
    "    print(key)\n",
    " \n",
    "for value in dict.values():\n",
    "    print(value)\n",
    "\n",
    "for item in dict.items():\n",
    "    print(item)"
   ]
  },
  {
   "cell_type": "code",
   "execution_count": 4,
   "id": "8188714b",
   "metadata": {},
   "outputs": [
    {
     "name": "stdout",
     "output_type": "stream",
     "text": [
      "green\n",
      "blue\n",
      "red\n"
     ]
    }
   ],
   "source": [
    "# using for loop to loop over sets.\n",
    "\n",
    "colorSet ={\"red\",\"green\",\"blue\"}\n",
    " \n",
    "for color in colorSet:\n",
    "    print(color)"
   ]
  },
  {
   "cell_type": "code",
   "execution_count": null,
   "id": "027b0899",
   "metadata": {},
   "outputs": [],
   "source": []
  }
 ],
 "metadata": {
  "kernelspec": {
   "display_name": "Python 3",
   "language": "python",
   "name": "python3"
  },
  "language_info": {
   "codemirror_mode": {
    "name": "ipython",
    "version": 3
   },
   "file_extension": ".py",
   "mimetype": "text/x-python",
   "name": "python",
   "nbconvert_exporter": "python",
   "pygments_lexer": "ipython3",
   "version": "3.8.8"
  }
 },
 "nbformat": 4,
 "nbformat_minor": 5
}
