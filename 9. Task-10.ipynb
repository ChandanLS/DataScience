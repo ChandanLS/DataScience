{
 "cells": [
  {
   "cell_type": "code",
   "execution_count": 4,
   "id": "8e30e0c9",
   "metadata": {},
   "outputs": [
    {
     "data": {
      "text/plain": [
       "'The reduce(fun,seq) function is used to apply a particular function passed in its argument to all of the \\nlist elements mentioned in the sequence passed along.This function is defined in “functools” module.\\n\\nWorking : \\n\\nAt first step, first two elements of sequence are picked and the result is obtained.\\nNext step is to apply the same function to the previously attained result and the number just succeeding the second element and the result is again stored.\\nThis process continues till no more elements are left in the container.\\nThe final returned result is returned and printed on console.\\n'"
      ]
     },
     "execution_count": 4,
     "metadata": {},
     "output_type": "execute_result"
    }
   ],
   "source": [
    "#Task10\n",
    "#Reduce() function:\n",
    "\n",
    "'''The reduce(fun,seq) function is used to apply a particular function passed in its argument to all of the \n",
    "list elements mentioned in the sequence passed along.This function is defined in “functools” module.\n",
    "\n",
    "Working : \n",
    "\n",
    "At first step, first two elements of sequence are picked and the result is obtained.\n",
    "Next step is to apply the same function to the previously attained result and the number just succeeding the second element and the result is again stored.\n",
    "This process continues till no more elements are left in the container.\n",
    "The final returned result is returned and printed on console.\n",
    "'''"
   ]
  },
  {
   "cell_type": "code",
   "execution_count": 5,
   "id": "61985791",
   "metadata": {},
   "outputs": [
    {
     "data": {
      "text/plain": [
       "'The purpose of Python zip() method is to map the similar index of multiple containers so \\nthat they can be used just using as single entity.\\n\\nSyntax :  zip(*iterators) \\n\\nParameters : \\nPython iterables or containers ( list, string etc ) \\n\\nReturn Value : \\nReturns a single iterator object, having mapped values from all the \\ncontainers.'"
      ]
     },
     "execution_count": 5,
     "metadata": {},
     "output_type": "execute_result"
    }
   ],
   "source": [
    "#Task10\n",
    "#zip() function:\n",
    "\n",
    "'''The purpose of Python zip() method is to map the similar index of multiple containers so \n",
    "that they can be used just using as single entity.\n",
    "\n",
    "Syntax :  zip(*iterators) \n",
    "\n",
    "Parameters : \n",
    "Python iterables or containers ( list, string etc ) \n",
    "\n",
    "Return Value : \n",
    "Returns a single iterator object, having mapped values from all the \n",
    "containers.'''\n"
   ]
  },
  {
   "cell_type": "code",
   "execution_count": 6,
   "id": "9d7a4fdc",
   "metadata": {},
   "outputs": [
    {
     "data": {
      "text/plain": [
       "'Often, when dealing with iterators, we also get a need to keep a count of iterations. Python eases the programmers’ task by providing a built-in function enumerate() for this task. \\nEnumerate() method adds a counter to an iterable and returns it in a form of enumerating object. \\nThis enumerated object can then be used directly for loops or converted into a list of tuples using the list() method.\\n\\nenumerate(iterable, start=0)\\n\\nParameters:\\nIterable: any object that supports iteration\\nStart: the index value from which the counter is \\n              to be started, by default it is 0'"
      ]
     },
     "execution_count": 6,
     "metadata": {},
     "output_type": "execute_result"
    }
   ],
   "source": [
    "#Task10\n",
    "#enumerate() function:\n",
    "\n",
    "'''Often, when dealing with iterators, we also get a need to keep a count of iterations. Python eases the programmers’ task by providing a built-in function enumerate() for this task. \n",
    "Enumerate() method adds a counter to an iterable and returns it in a form of enumerating object. \n",
    "This enumerated object can then be used directly for loops or converted into a list of tuples using the list() method.\n",
    "\n",
    "enumerate(iterable, start=0)\n",
    "\n",
    "Parameters:\n",
    "Iterable: any object that supports iteration\n",
    "Start: the index value from which the counter is \n",
    "              to be started, by default it is 0'''"
   ]
  },
  {
   "cell_type": "code",
   "execution_count": 7,
   "id": "87ff82fe",
   "metadata": {},
   "outputs": [
    {
     "name": "stdout",
     "output_type": "stream",
     "text": [
      "Return type: <class 'enumerate'>\n",
      "[(0, 'eat'), (1, 'sleep'), (2, 'repeat')]\n",
      "[(2, 'g'), (3, 'e'), (4, 'e'), (5, 'k')]\n"
     ]
    }
   ],
   "source": [
    "#Example for enumerate() Function:\n",
    "\n",
    "l1 = [\"eat\",\"sleep\",\"repeat\"]\n",
    "s1 = \"geek\"\n",
    " \n",
    "# creating enumerate objects\n",
    "obj1 = enumerate(l1)\n",
    "obj2 = enumerate(s1)\n",
    " \n",
    "print (\"Return type:\",type(obj1))\n",
    "print (list(enumerate(l1)))\n",
    " \n",
    "# changing start index to 2 from 0\n",
    "print (list(enumerate(s1,2)))"
   ]
  },
  {
   "cell_type": "code",
   "execution_count": 8,
   "id": "95edc12f",
   "metadata": {},
   "outputs": [
    {
     "name": "stdout",
     "output_type": "stream",
     "text": [
      "The zipped result is : {('Manjeet', 4, 40), ('Shambhavi', 3, 60), ('Nikhil', 1, 50), ('Astha', 2, 70)}\n"
     ]
    }
   ],
   "source": [
    "#Example for zip() Function:\n",
    "\n",
    "\n",
    "name = [ \"Manjeet\", \"Nikhil\", \"Shambhavi\", \"Astha\" ]\n",
    "roll_no = [ 4, 1, 3, 2 ]\n",
    "marks = [ 40, 50, 60, 70 ]\n",
    "  \n",
    "# using zip() to map values\n",
    "mapped = zip(name, roll_no, marks)\n",
    "  \n",
    "# converting values to print as set\n",
    "mapped = set(mapped)\n",
    "  \n",
    "# printing resultant values \n",
    "print (\"The zipped result is : \",end=\"\")\n",
    "print (mapped)"
   ]
  },
  {
   "cell_type": "code",
   "execution_count": 13,
   "id": "9a07f41c",
   "metadata": {},
   "outputs": [
    {
     "name": "stdout",
     "output_type": "stream",
     "text": [
      "The sum of the list elements is : 17\n",
      "The maximum element of the list is : 6\n"
     ]
    }
   ],
   "source": [
    "#Example for reduce() Function:\n",
    "\n",
    "# importing functools for reduce()\n",
    "import functools\n",
    " \n",
    "# initializing list\n",
    "lis = [1, 3, 5, 6, 2, ]\n",
    " \n",
    "# using reduce to compute sum of list\n",
    "print(\"The sum of the list elements is : \", end=\"\")\n",
    "print(functools.reduce(lambda a, b: a+b, lis))\n",
    " \n",
    "# using reduce to compute maximum element from list\n",
    "print(\"The maximum element of the list is : \", end=\"\")\n",
    "print(functools.reduce(lambda a, b: a if a > b else b, lis))"
   ]
  },
  {
   "cell_type": "code",
   "execution_count": null,
   "id": "16f1e0f1",
   "metadata": {},
   "outputs": [],
   "source": []
  }
 ],
 "metadata": {
  "kernelspec": {
   "display_name": "Python 3",
   "language": "python",
   "name": "python3"
  },
  "language_info": {
   "codemirror_mode": {
    "name": "ipython",
    "version": 3
   },
   "file_extension": ".py",
   "mimetype": "text/x-python",
   "name": "python",
   "nbconvert_exporter": "python",
   "pygments_lexer": "ipython3",
   "version": "3.8.8"
  }
 },
 "nbformat": 4,
 "nbformat_minor": 5
}
