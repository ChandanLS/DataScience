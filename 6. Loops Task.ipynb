{
 "cells": [
  {
   "cell_type": "code",
   "execution_count": 1,
   "id": "17d0de66",
   "metadata": {},
   "outputs": [
    {
     "name": "stdout",
     "output_type": "stream",
     "text": [
      "Enter your num1 value: 1\n",
      "Enter your num2 value: 2\n",
      "1\n",
      "2\n"
     ]
    }
   ],
   "source": [
    "#Task9\n",
    "#Ask 2 numbers from users and store it in num1 and num2\n",
    "\n",
    "num1 = input(\"Enter your num1 value: \")\n",
    "num2 = input(\"Enter your num2 value: \")\n",
    "print(num1)\n",
    "print(num2)"
   ]
  },
  {
   "cell_type": "code",
   "execution_count": 3,
   "id": "fe15fa59",
   "metadata": {},
   "outputs": [
    {
     "name": "stdout",
     "output_type": "stream",
     "text": [
      "Enter your num1 value: 1\n",
      "Enter your num2 value: 1\n",
      "Select operations form 1, 2, 3, 4 :1\n"
     ]
    }
   ],
   "source": [
    "#Ask user to press 1 for addition,2 for subtraction,3 for multiplication and 4 for division\n",
    "\n",
    "num1 = input(\"Enter your num1 value: \")\n",
    "num2 = input(\"Enter your num2 value: \")\n",
    "\n",
    "select = int(input(\"Select operations form 1, 2, 3, 4 :\"))\n"
   ]
  },
  {
   "cell_type": "code",
   "execution_count": 2,
   "id": "89ca4127",
   "metadata": {},
   "outputs": [
    {
     "name": "stdout",
     "output_type": "stream",
     "text": [
      "Enter first number: 1\n",
      "Enter second number: 1\n",
      "Select operations form 1, 2, 3, 4 :1\n",
      "1 + 1 = 2\n"
     ]
    }
   ],
   "source": [
    "#based on number given by user do the math operation\n",
    "\n",
    "num1 = int(input(\"Enter first number: \"))\n",
    "num2 = int(input(\"Enter second number: \"))\n",
    "\n",
    "# Function to add two numbers \n",
    "def add(num1, num2):\n",
    "    return num1 + num2\n",
    "  \n",
    "# Function to subtract two numbers \n",
    "def subtract(num1, num2):\n",
    "    return num1 - num2\n",
    "  \n",
    "# Function to multiply two numbers\n",
    "def multiply(num1, num2):\n",
    "    return num1 * num2\n",
    "  \n",
    "# Function to divide two numbers\n",
    "def divide(num1, num2):\n",
    "    return num1 / num2\n",
    "  \n",
    "#selecting math operation\n",
    "select = int(input(\"Select operations form 1, 2, 3, 4 :\"))\n",
    "  \n",
    "#Condition for the Math operation \n",
    "if select == 1:\n",
    "    print(num1, \"+\", num2, \"=\",\n",
    "                    add(num1, num2))\n",
    "  \n",
    "elif select == 2:\n",
    "    print(num1, \"-\", num2, \"=\",\n",
    "                    subtract(num1, num2))\n",
    "  \n",
    "elif select == 3:\n",
    "    print(num1, \"*\", num2, \"=\",\n",
    "                    multiply(num1, num2))\n",
    "  \n",
    "elif select == 4:\n",
    "    print(num1, \"/\", num2, \"=\",\n",
    "                    divide(num1, num2))\n",
    "else:\n",
    "    print(\"Invalid input\")"
   ]
  },
  {
   "cell_type": "code",
   "execution_count": null,
   "id": "ab257615",
   "metadata": {},
   "outputs": [],
   "source": []
  }
 ],
 "metadata": {
  "kernelspec": {
   "display_name": "Python 3",
   "language": "python",
   "name": "python3"
  },
  "language_info": {
   "codemirror_mode": {
    "name": "ipython",
    "version": 3
   },
   "file_extension": ".py",
   "mimetype": "text/x-python",
   "name": "python",
   "nbconvert_exporter": "python",
   "pygments_lexer": "ipython3",
   "version": "3.8.8"
  }
 },
 "nbformat": 4,
 "nbformat_minor": 5
}
