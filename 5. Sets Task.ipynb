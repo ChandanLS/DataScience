{
 "cells": [
  {
   "cell_type": "code",
   "execution_count": 1,
   "id": "361ddb89",
   "metadata": {},
   "outputs": [
    {
     "name": "stdout",
     "output_type": "stream",
     "text": [
      "{10, 20}\n",
      "{100, 60}\n"
     ]
    }
   ],
   "source": [
    "# difference() \n",
    "\n",
    "'''The function difference() returns a set that is the difference between two sets.\n",
    "The difference between the two sets in Python is equal to the difference between the number of elements in two sets. '''\n",
    "\n",
    "# Python code to get the difference between two sets\n",
    "# using difference() between set A and set B\n",
    "  \n",
    "A = {10, 20, 30, 40, 80}\n",
    "B = {100, 30, 80, 40, 60}\n",
    "print (A.difference(B))\n",
    "print (B.difference(A))"
   ]
  },
  {
   "cell_type": "code",
   "execution_count": 2,
   "id": "f21463fc",
   "metadata": {},
   "outputs": [
    {
     "name": "stdout",
     "output_type": "stream",
     "text": [
      "{1, 2, 5, 6, 7, 9}\n"
     ]
    }
   ],
   "source": [
    "# symmetric_difference() \n",
    "\n",
    "'''This in-built function of Python Set helps us to get the symmetric difference between two sets, \n",
    "which is equal to the elements present in either of the two sets, but not common to both the sets'''\n",
    "\n",
    "#Example 01\n",
    "\n",
    "# Python code to find the symmetric_difference\n",
    "# Use of symmetric_difference() method\n",
    "\n",
    "set_A = {1, 2, 3, 4, 5}\n",
    "set_B = {6, 7, 3, 9, 4}\n",
    "print(set_A.symmetric_difference(set_B))"
   ]
  },
  {
   "cell_type": "code",
   "execution_count": 3,
   "id": "71c8909c",
   "metadata": {},
   "outputs": [
    {
     "name": "stdout",
     "output_type": "stream",
     "text": [
      "{'shyam', 'ravi', 'rahim', 'rishav'}\n"
     ]
    }
   ],
   "source": [
    "#Example 01\n",
    "\n",
    "# Python code to find the Symmetric difference\n",
    "# using ^ operator.\n",
    "  \n",
    "\n",
    "set_A = {\"ram\", \"rahim\", \"ajay\", \"rishav\", \"aakash\"}\n",
    "set_B = {\"aakash\", \"ajay\", \"shyam\", \"ram\", \"ravi\"}\n",
    "print(set_A ^ set_B)"
   ]
  },
  {
   "cell_type": "code",
   "execution_count": 4,
   "id": "34a56185",
   "metadata": {},
   "outputs": [
    {
     "name": "stdout",
     "output_type": "stream",
     "text": [
      "{'o', 'w', 'e', 'r', 'p'}\n",
      "{'o', 'r', 'w', 'e', 'p'}\n",
      "{'n', 'a', 'w', 'p'}\n",
      "{'a', 'o', 'n', 'r', 'e'}\n"
     ]
    }
   ],
   "source": [
    "#example 03\n",
    "\n",
    "# One more example Python code to find \n",
    "# the symmetric_difference use of \n",
    "# symmetric_difference() method\n",
    "  \n",
    "A = {'p', 'a', 'w', 'a', 'n'}\n",
    "B = {'r', 'a', 'o', 'n', 'e'}\n",
    "C = {}\n",
    "  \n",
    "print(A.symmetric_difference(B))\n",
    "print(B.symmetric_difference(A))\n",
    "  \n",
    "print(A.symmetric_difference(C))\n",
    "print(B.symmetric_difference(C))"
   ]
  },
  {
   "cell_type": "code",
   "execution_count": null,
   "id": "b812fdaf",
   "metadata": {},
   "outputs": [],
   "source": []
  }
 ],
 "metadata": {
  "kernelspec": {
   "display_name": "Python 3",
   "language": "python",
   "name": "python3"
  },
  "language_info": {
   "codemirror_mode": {
    "name": "ipython",
    "version": 3
   },
   "file_extension": ".py",
   "mimetype": "text/x-python",
   "name": "python",
   "nbconvert_exporter": "python",
   "pygments_lexer": "ipython3",
   "version": "3.8.8"
  }
 },
 "nbformat": 4,
 "nbformat_minor": 5
}
