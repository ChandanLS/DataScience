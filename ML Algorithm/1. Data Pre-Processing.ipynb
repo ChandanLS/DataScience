{
 "cells": [
  {
   "cell_type": "code",
   "execution_count": 33,
   "id": "814981b4",
   "metadata": {},
   "outputs": [
    {
     "data": {
      "text/plain": [
       "'Numpy: Numpy Python library is used for including any type of mathematical operation in the code.\\n\\nMatplotlib: The second library is matplotlib, which is a Python 2D plotting library,\\nand with this library,we need to import a sub-library pyplot.\\n\\nPandas: The last library is the Pandas library, which is one of the most famous Python libraries and used for importing and managing the datasets.\\nIt is an open-source data manipulation and analysis library.'"
      ]
     },
     "execution_count": 33,
     "metadata": {},
     "output_type": "execute_result"
    }
   ],
   "source": [
    "#Importing the libraries\n",
    "\n",
    "'''Numpy: Numpy Python library is used for including any type of mathematical operation in the code.\n",
    "\n",
    "Matplotlib: The second library is matplotlib, which is a Python 2D plotting library,\n",
    "and with this library,we need to import a sub-library pyplot.\n",
    "\n",
    "Pandas: The last library is the Pandas library, which is one of the most famous Python libraries and used for importing and managing the datasets.\n",
    "It is an open-source data manipulation and analysis library.'''"
   ]
  },
  {
   "cell_type": "code",
   "execution_count": 2,
   "id": "7426629f",
   "metadata": {},
   "outputs": [],
   "source": [
    "import numpy as np\n",
    "import matplotlib.pyplot as plt\n",
    "import pandas as pd"
   ]
  },
  {
   "cell_type": "code",
   "execution_count": 3,
   "id": "eb80b199",
   "metadata": {},
   "outputs": [],
   "source": [
    "#Importing the dataset"
   ]
  },
  {
   "cell_type": "code",
   "execution_count": 5,
   "id": "17284a84",
   "metadata": {},
   "outputs": [
    {
     "data": {
      "text/html": [
       "<div>\n",
       "<style scoped>\n",
       "    .dataframe tbody tr th:only-of-type {\n",
       "        vertical-align: middle;\n",
       "    }\n",
       "\n",
       "    .dataframe tbody tr th {\n",
       "        vertical-align: top;\n",
       "    }\n",
       "\n",
       "    .dataframe thead th {\n",
       "        text-align: right;\n",
       "    }\n",
       "</style>\n",
       "<table border=\"1\" class=\"dataframe\">\n",
       "  <thead>\n",
       "    <tr style=\"text-align: right;\">\n",
       "      <th></th>\n",
       "      <th>Country</th>\n",
       "      <th>Age</th>\n",
       "      <th>Salary</th>\n",
       "      <th>Purchased</th>\n",
       "    </tr>\n",
       "  </thead>\n",
       "  <tbody>\n",
       "    <tr>\n",
       "      <th>0</th>\n",
       "      <td>India</td>\n",
       "      <td>34.0</td>\n",
       "      <td>92000.0</td>\n",
       "      <td>Yes</td>\n",
       "    </tr>\n",
       "    <tr>\n",
       "      <th>1</th>\n",
       "      <td>Sri lanka</td>\n",
       "      <td>22.0</td>\n",
       "      <td>25000.0</td>\n",
       "      <td>Yes</td>\n",
       "    </tr>\n",
       "    <tr>\n",
       "      <th>2</th>\n",
       "      <td>China</td>\n",
       "      <td>31.0</td>\n",
       "      <td>74000.0</td>\n",
       "      <td>Yes</td>\n",
       "    </tr>\n",
       "    <tr>\n",
       "      <th>3</th>\n",
       "      <td>Sri lanka</td>\n",
       "      <td>29.0</td>\n",
       "      <td>NaN</td>\n",
       "      <td>No</td>\n",
       "    </tr>\n",
       "    <tr>\n",
       "      <th>4</th>\n",
       "      <td>China</td>\n",
       "      <td>55.0</td>\n",
       "      <td>98000.0</td>\n",
       "      <td>Yes</td>\n",
       "    </tr>\n",
       "    <tr>\n",
       "      <th>5</th>\n",
       "      <td>India</td>\n",
       "      <td>24.0</td>\n",
       "      <td>30000.0</td>\n",
       "      <td>No</td>\n",
       "    </tr>\n",
       "    <tr>\n",
       "      <th>6</th>\n",
       "      <td>Sri lanka</td>\n",
       "      <td>28.0</td>\n",
       "      <td>40000.0</td>\n",
       "      <td>No</td>\n",
       "    </tr>\n",
       "    <tr>\n",
       "      <th>7</th>\n",
       "      <td>India</td>\n",
       "      <td>NaN</td>\n",
       "      <td>60000.0</td>\n",
       "      <td>No</td>\n",
       "    </tr>\n",
       "    <tr>\n",
       "      <th>8</th>\n",
       "      <td>China</td>\n",
       "      <td>51.0</td>\n",
       "      <td>89000.0</td>\n",
       "      <td>Yes</td>\n",
       "    </tr>\n",
       "    <tr>\n",
       "      <th>9</th>\n",
       "      <td>India</td>\n",
       "      <td>44.0</td>\n",
       "      <td>78000.0</td>\n",
       "      <td>Yes</td>\n",
       "    </tr>\n",
       "    <tr>\n",
       "      <th>10</th>\n",
       "      <td>Sri lanka</td>\n",
       "      <td>21.0</td>\n",
       "      <td>20000.0</td>\n",
       "      <td>No</td>\n",
       "    </tr>\n",
       "    <tr>\n",
       "      <th>11</th>\n",
       "      <td>China</td>\n",
       "      <td>25.0</td>\n",
       "      <td>30000.0</td>\n",
       "      <td>Yes</td>\n",
       "    </tr>\n",
       "    <tr>\n",
       "      <th>12</th>\n",
       "      <td>India</td>\n",
       "      <td>33.0</td>\n",
       "      <td>45000.0</td>\n",
       "      <td>Yes</td>\n",
       "    </tr>\n",
       "    <tr>\n",
       "      <th>13</th>\n",
       "      <td>India</td>\n",
       "      <td>42.0</td>\n",
       "      <td>65000.0</td>\n",
       "      <td>Yes</td>\n",
       "    </tr>\n",
       "    <tr>\n",
       "      <th>14</th>\n",
       "      <td>Sri lanka</td>\n",
       "      <td>33.0</td>\n",
       "      <td>22000.0</td>\n",
       "      <td>No</td>\n",
       "    </tr>\n",
       "  </tbody>\n",
       "</table>\n",
       "</div>"
      ],
      "text/plain": [
       "      Country   Age   Salary Purchased\n",
       "0       India  34.0  92000.0       Yes\n",
       "1   Sri lanka  22.0  25000.0       Yes\n",
       "2       China  31.0  74000.0       Yes\n",
       "3   Sri lanka  29.0      NaN        No\n",
       "4       China  55.0  98000.0       Yes\n",
       "5       India  24.0  30000.0        No\n",
       "6   Sri lanka  28.0  40000.0        No\n",
       "7       India   NaN  60000.0        No\n",
       "8       China  51.0  89000.0       Yes\n",
       "9       India  44.0  78000.0       Yes\n",
       "10  Sri lanka  21.0  20000.0        No\n",
       "11      China  25.0  30000.0       Yes\n",
       "12      India  33.0  45000.0       Yes\n",
       "13      India  42.0  65000.0       Yes\n",
       "14  Sri lanka  33.0  22000.0        No"
      ]
     },
     "execution_count": 5,
     "metadata": {},
     "output_type": "execute_result"
    }
   ],
   "source": [
    "dataset = pd.read_csv('Data.csv')\n",
    "dataset"
   ]
  },
  {
   "cell_type": "code",
   "execution_count": 34,
   "id": "6f0505b3",
   "metadata": {},
   "outputs": [
    {
     "data": {
      "text/plain": [
       "'To extract an independent variable, we will use iloc[ ] method of Pandas library. \\nIt is used to extract the required rows and columns from the dataset.'"
      ]
     },
     "execution_count": 34,
     "metadata": {},
     "output_type": "execute_result"
    }
   ],
   "source": [
    "#Extracting dependent and independent variables:\n",
    "'''it is important to distinguish the matrix of features (independent variables) and \n",
    "dependent variables from dataset.In our dataset, there are three independent variables that \n",
    "are Country,Age, and Salary, and one is a dependent variable which is Purchased.'''\n",
    "\n",
    "#Extracting dependent variable:\n",
    "'''To extract an independent variable, we will use iloc[ ] method of Pandas library. \n",
    "It is used to extract the required rows and columns from the dataset.'''"
   ]
  },
  {
   "cell_type": "code",
   "execution_count": 7,
   "id": "72df4654",
   "metadata": {},
   "outputs": [
    {
     "data": {
      "text/plain": [
       "array([['India', 34.0, 92000.0],\n",
       "       ['Sri lanka', 22.0, 25000.0],\n",
       "       ['China', 31.0, 74000.0],\n",
       "       ['Sri lanka', 29.0, nan],\n",
       "       ['China', 55.0, 98000.0],\n",
       "       ['India', 24.0, 30000.0],\n",
       "       ['Sri lanka', 28.0, 40000.0],\n",
       "       ['India', nan, 60000.0],\n",
       "       ['China', 51.0, 89000.0],\n",
       "       ['India', 44.0, 78000.0],\n",
       "       ['Sri lanka', 21.0, 20000.0],\n",
       "       ['China', 25.0, 30000.0],\n",
       "       ['India', 33.0, 45000.0],\n",
       "       ['India', 42.0, 65000.0],\n",
       "       ['Sri lanka', 33.0, 22000.0]], dtype=object)"
      ]
     },
     "execution_count": 7,
     "metadata": {},
     "output_type": "execute_result"
    }
   ],
   "source": [
    "X = dataset.iloc[:, :-1].values\n",
    "X"
   ]
  },
  {
   "cell_type": "code",
   "execution_count": 8,
   "id": "ef4416d0",
   "metadata": {},
   "outputs": [
    {
     "data": {
      "text/plain": [
       "array(['Yes', 'Yes', 'Yes', 'No', 'Yes', 'No', 'No', 'No', 'Yes', 'Yes',\n",
       "       'No', 'Yes', 'Yes', 'Yes', 'No'], dtype=object)"
      ]
     },
     "execution_count": 8,
     "metadata": {},
     "output_type": "execute_result"
    }
   ],
   "source": [
    "#Extracting dependent variable:\n",
    "\n",
    "y = dataset.iloc[:, -1].values\n",
    "y"
   ]
  },
  {
   "cell_type": "code",
   "execution_count": 9,
   "id": "ee2aa17d",
   "metadata": {},
   "outputs": [],
   "source": [
    "#handling missing data (Replacing missing data with the mean value)  \n",
    "#By deleting the particular row or By calculating the mean: \n",
    "\n",
    "from sklearn.impute import SimpleImputer \n",
    "imputer = SimpleImputer(missing_values=np.nan, strategy='mean')  "
   ]
  },
  {
   "cell_type": "code",
   "execution_count": 10,
   "id": "6a17f1c2",
   "metadata": {},
   "outputs": [
    {
     "data": {
      "text/plain": [
       "SimpleImputer()"
      ]
     },
     "execution_count": 10,
     "metadata": {},
     "output_type": "execute_result"
    }
   ],
   "source": [
    "#Fitting imputer object to the independent variables x.\n",
    "\n",
    "imputer.fit(X[:, 1:3]) "
   ]
  },
  {
   "cell_type": "code",
   "execution_count": 11,
   "id": "3cf725a8",
   "metadata": {},
   "outputs": [],
   "source": [
    "#Replacing missing data with the calculated mean value  \n",
    "\n",
    "X[:, 1:3] = imputer.transform(X[:, 1:3])"
   ]
  },
  {
   "cell_type": "code",
   "execution_count": 12,
   "id": "7804d687",
   "metadata": {},
   "outputs": [
    {
     "name": "stdout",
     "output_type": "stream",
     "text": [
      "[['India' 34.0 92000.0]\n",
      " ['Sri lanka' 22.0 25000.0]\n",
      " ['China' 31.0 74000.0]\n",
      " ['Sri lanka' 29.0 54857.142857142855]\n",
      " ['China' 55.0 98000.0]\n",
      " ['India' 24.0 30000.0]\n",
      " ['Sri lanka' 28.0 40000.0]\n",
      " ['India' 33.714285714285715 60000.0]\n",
      " ['China' 51.0 89000.0]\n",
      " ['India' 44.0 78000.0]\n",
      " ['Sri lanka' 21.0 20000.0]\n",
      " ['China' 25.0 30000.0]\n",
      " ['India' 33.0 45000.0]\n",
      " ['India' 42.0 65000.0]\n",
      " ['Sri lanka' 33.0 22000.0]]\n"
     ]
    }
   ],
   "source": [
    "print(X)"
   ]
  },
  {
   "cell_type": "code",
   "execution_count": 14,
   "id": "371ef6fb",
   "metadata": {},
   "outputs": [],
   "source": [
    "#Encoding Categorical data:\n",
    "#Encoding the Independent Variable"
   ]
  },
  {
   "cell_type": "code",
   "execution_count": 15,
   "id": "af668b0a",
   "metadata": {},
   "outputs": [],
   "source": [
    "from sklearn.compose import ColumnTransformer\n",
    "from sklearn.preprocessing import OneHotEncoder\n",
    "ct = ColumnTransformer(transformers=[('encoder', OneHotEncoder(), [0])], remainder='passthrough')\n",
    "X = np.array(ct.fit_transform(X))"
   ]
  },
  {
   "cell_type": "code",
   "execution_count": 17,
   "id": "10ae3461",
   "metadata": {},
   "outputs": [
    {
     "name": "stdout",
     "output_type": "stream",
     "text": [
      "[[0.0 1.0 0.0 34.0 92000.0]\n",
      " [0.0 0.0 1.0 22.0 25000.0]\n",
      " [1.0 0.0 0.0 31.0 74000.0]\n",
      " [0.0 0.0 1.0 29.0 54857.142857142855]\n",
      " [1.0 0.0 0.0 55.0 98000.0]\n",
      " [0.0 1.0 0.0 24.0 30000.0]\n",
      " [0.0 0.0 1.0 28.0 40000.0]\n",
      " [0.0 1.0 0.0 33.714285714285715 60000.0]\n",
      " [1.0 0.0 0.0 51.0 89000.0]\n",
      " [0.0 1.0 0.0 44.0 78000.0]\n",
      " [0.0 0.0 1.0 21.0 20000.0]\n",
      " [1.0 0.0 0.0 25.0 30000.0]\n",
      " [0.0 1.0 0.0 33.0 45000.0]\n",
      " [0.0 1.0 0.0 42.0 65000.0]\n",
      " [0.0 0.0 1.0 33.0 22000.0]]\n"
     ]
    }
   ],
   "source": [
    "print(X)"
   ]
  },
  {
   "cell_type": "code",
   "execution_count": 18,
   "id": "12847730",
   "metadata": {},
   "outputs": [],
   "source": [
    "#Encoding the Dependent Variable"
   ]
  },
  {
   "cell_type": "code",
   "execution_count": 19,
   "id": "be793c6a",
   "metadata": {},
   "outputs": [],
   "source": [
    "from sklearn.preprocessing import LabelEncoder\n",
    "le = LabelEncoder()\n",
    "y = le.fit_transform(y)"
   ]
  },
  {
   "cell_type": "code",
   "execution_count": 20,
   "id": "46f5af26",
   "metadata": {},
   "outputs": [
    {
     "name": "stdout",
     "output_type": "stream",
     "text": [
      "[1 1 1 0 1 0 0 0 1 1 0 1 1 1 0]\n"
     ]
    }
   ],
   "source": [
    "print(y)"
   ]
  },
  {
   "cell_type": "code",
   "execution_count": 21,
   "id": "3d587c82",
   "metadata": {},
   "outputs": [],
   "source": [
    "#Splitting the dataset into the Training set and Test set"
   ]
  },
  {
   "cell_type": "code",
   "execution_count": 22,
   "id": "8a566190",
   "metadata": {},
   "outputs": [],
   "source": [
    "from sklearn.model_selection import train_test_split\n",
    "X_train, X_test, y_train, y_test = train_test_split(X, y, test_size = 0.2, random_state = 1)"
   ]
  },
  {
   "cell_type": "code",
   "execution_count": 23,
   "id": "3061f4a1",
   "metadata": {},
   "outputs": [
    {
     "name": "stdout",
     "output_type": "stream",
     "text": [
      "[[1.0 0.0 0.0 31.0 74000.0]\n",
      " [0.0 0.0 1.0 21.0 20000.0]\n",
      " [1.0 0.0 0.0 55.0 98000.0]\n",
      " [0.0 0.0 1.0 22.0 25000.0]\n",
      " [0.0 1.0 0.0 42.0 65000.0]\n",
      " [0.0 1.0 0.0 34.0 92000.0]\n",
      " [0.0 0.0 1.0 33.0 22000.0]\n",
      " [0.0 1.0 0.0 44.0 78000.0]\n",
      " [1.0 0.0 0.0 51.0 89000.0]\n",
      " [0.0 1.0 0.0 33.0 45000.0]\n",
      " [1.0 0.0 0.0 25.0 30000.0]\n",
      " [0.0 1.0 0.0 24.0 30000.0]]\n"
     ]
    }
   ],
   "source": [
    "print(X_train)"
   ]
  },
  {
   "cell_type": "code",
   "execution_count": 24,
   "id": "2e266fb2",
   "metadata": {},
   "outputs": [
    {
     "name": "stdout",
     "output_type": "stream",
     "text": [
      "[[0.0 0.0 1.0 29.0 54857.142857142855]\n",
      " [0.0 1.0 0.0 33.714285714285715 60000.0]\n",
      " [0.0 0.0 1.0 28.0 40000.0]]\n"
     ]
    }
   ],
   "source": [
    "print(X_test)"
   ]
  },
  {
   "cell_type": "code",
   "execution_count": 25,
   "id": "2177a10d",
   "metadata": {},
   "outputs": [
    {
     "name": "stdout",
     "output_type": "stream",
     "text": [
      "[1 0 1 1 1 1 0 1 1 1 1 0]\n"
     ]
    }
   ],
   "source": [
    "print(y_train)"
   ]
  },
  {
   "cell_type": "code",
   "execution_count": 26,
   "id": "3ebf779e",
   "metadata": {},
   "outputs": [
    {
     "name": "stdout",
     "output_type": "stream",
     "text": [
      "[0 0 0]\n"
     ]
    }
   ],
   "source": [
    "print(y_test)"
   ]
  },
  {
   "cell_type": "code",
   "execution_count": 27,
   "id": "6ac7ecf9",
   "metadata": {},
   "outputs": [],
   "source": [
    "#Feature Scaling"
   ]
  },
  {
   "cell_type": "code",
   "execution_count": 28,
   "id": "c9fad382",
   "metadata": {},
   "outputs": [],
   "source": [
    "from sklearn.preprocessing import StandardScaler\n",
    "sc = StandardScaler()\n",
    "X_train[:, 3:] = sc.fit_transform(X_train[:, 3:])\n",
    "X_test[:, 3:] = sc.transform(X_test[:, 3:])"
   ]
  },
  {
   "cell_type": "code",
   "execution_count": 29,
   "id": "26273e97",
   "metadata": {},
   "outputs": [
    {
     "name": "stdout",
     "output_type": "stream",
     "text": [
      "[[1.0 0.0 0.0 -0.3323561357816283 0.637555294512461]\n",
      " [0.0 0.0 1.0 -1.2598616309861719 -1.2403348456878782]\n",
      " [1.0 0.0 0.0 1.8936570527092762 1.4721731346015006]\n",
      " [0.0 0.0 1.0 -1.1671110814657175 -1.0664561290026617]\n",
      " [0.0 1.0 0.0 0.6878999089433696 0.3245736044790711]\n",
      " [0.0 1.0 0.0 -0.054104487220265264 1.2635186745792406]\n",
      " [0.0 0.0 1.0 -0.14685503674071962 -1.1707833590137917]\n",
      " [0.0 1.0 0.0 0.8734010079842783 0.7766582678606342]\n",
      " [1.0 0.0 0.0 1.5226548546274588 1.1591914445681106]\n",
      " [0.0 1.0 0.0 -0.14685503674071962 -0.3709412622617953]\n",
      " [1.0 0.0 0.0 -0.8888594329043545 -0.892577412317445]\n",
      " [0.0 1.0 0.0 -0.9816099824248089 -0.892577412317445]]\n"
     ]
    }
   ],
   "source": [
    "print(X_train)"
   ]
  },
  {
   "cell_type": "code",
   "execution_count": 30,
   "id": "095b8812",
   "metadata": {},
   "outputs": [
    {
     "name": "stdout",
     "output_type": "stream",
     "text": [
      "[[0.0 0.0 1.0 -0.5178572348225371 -0.02815179222522553]\n",
      " [0.0 1.0 0.0 -0.08060464422610927 0.15069488779385445]\n",
      " [0.0 0.0 1.0 -0.6106077843429915 -0.544819978947012]]\n"
     ]
    }
   ],
   "source": [
    "print(X_test)"
   ]
  },
  {
   "cell_type": "code",
   "execution_count": null,
   "id": "e3dcc4c6",
   "metadata": {},
   "outputs": [],
   "source": []
  }
 ],
 "metadata": {
  "kernelspec": {
   "display_name": "Python 3",
   "language": "python",
   "name": "python3"
  },
  "language_info": {
   "codemirror_mode": {
    "name": "ipython",
    "version": 3
   },
   "file_extension": ".py",
   "mimetype": "text/x-python",
   "name": "python",
   "nbconvert_exporter": "python",
   "pygments_lexer": "ipython3",
   "version": "3.8.8"
  }
 },
 "nbformat": 4,
 "nbformat_minor": 5
}
