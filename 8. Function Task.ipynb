{
 "cells": [
  {
   "cell_type": "code",
   "execution_count": 1,
   "id": "3fb1ad7b",
   "metadata": {},
   "outputs": [
    {
     "data": {
      "text/plain": [
       "'A return statement is used to end the execution of the function call and “returns” the result (value of the expression following the return keyword) to the caller. \\nThe statements after the return statements are not executed. If the return statement is without any expression, \\nthen the special value None is returned. \\nNote: Return statement can not be used outside the function.'"
      ]
     },
     "execution_count": 1,
     "metadata": {},
     "output_type": "execute_result"
    }
   ],
   "source": [
    "#Task-11.1\n",
    "#Explain Return keyword with example.\n",
    "\n",
    "'''A return statement is used to end the execution of the function call and “returns” the result (value of the expression following the return keyword) to the caller. \n",
    "The statements after the return statements are not executed. If the return statement is without any expression, \n",
    "then the special value None is returned. \n",
    "Note: Return statement can not be used outside the function.'''"
   ]
  },
  {
   "cell_type": "code",
   "execution_count": 2,
   "id": "48a670e6",
   "metadata": {},
   "outputs": [
    {
     "name": "stdout",
     "output_type": "stream",
     "text": [
      "Result of add function is 5\n",
      "\n",
      "Result of is true function is True\n"
     ]
    }
   ],
   "source": [
    "#Example for Return:\n",
    "def add(a, b):\n",
    "    return a + b\n",
    " \n",
    "def is_true(a):\n",
    "    return bool(a)\n",
    " \n",
    "res = add(2, 3)\n",
    "print(\"Result of add function is {}\".format(res))\n",
    " \n",
    "res = is_true(2<5)\n",
    "print(\"\\nResult of is true function is {}\".format(res))"
   ]
  },
  {
   "cell_type": "code",
   "execution_count": 3,
   "id": "f3158b03",
   "metadata": {},
   "outputs": [
    {
     "name": "stdout",
     "output_type": "stream",
     "text": [
      "Enter your num1 value: 1\n",
      "Enter your num2 value: 2\n",
      "1\n",
      "2\n"
     ]
    }
   ],
   "source": [
    "#Task-11.2\n",
    "#Ask 2 numbers from users and store it in num1 and num2\n",
    "\n",
    "num1 = input(\"Enter your num1 value: \")\n",
    "num2 = input(\"Enter your num2 value: \")\n",
    "print(num1)\n",
    "print(num2)"
   ]
  },
  {
   "cell_type": "code",
   "execution_count": 4,
   "id": "5ae94a0b",
   "metadata": {},
   "outputs": [
    {
     "name": "stdout",
     "output_type": "stream",
     "text": [
      "Enter your num1 value: 1\n",
      "Enter your num2 value: 1\n",
      "Select operations form 1, 2, 3, 4 :1\n"
     ]
    }
   ],
   "source": [
    "#Ask user to press 1 for addition,2 for subtraction,3 for multiplication and 4 for division\n",
    "\n",
    "num1 = input(\"Enter your num1 value: \")\n",
    "num2 = input(\"Enter your num2 value: \")\n",
    "\n",
    "select = int(input(\"Select operations form 1, 2, 3, 4 :\"))"
   ]
  },
  {
   "cell_type": "code",
   "execution_count": 5,
   "id": "49622a60",
   "metadata": {},
   "outputs": [
    {
     "name": "stdout",
     "output_type": "stream",
     "text": [
      "Enter first number: 1\n",
      "Enter second number: 1\n",
      "Select operations form 1, 2, 3, 4 :1\n"
     ]
    }
   ],
   "source": [
    "#create 4 seperate functions for each operation (i.e. addition,subtraction,multiplication and division)\n",
    "\n",
    "\n",
    "num1 = int(input(\"Enter first number: \"))\n",
    "num2 = int(input(\"Enter second number: \"))\n",
    "\n",
    "# Function to add two numbers \n",
    "def add(num1, num2):\n",
    "    return num1 + num2\n",
    "  \n",
    "# Function to subtract two numbers \n",
    "def subtract(num1, num2):\n",
    "    return num1 - num2\n",
    "  \n",
    "# Function to multiply two numbers\n",
    "def multiply(num1, num2):\n",
    "    return num1 * num2\n",
    "  \n",
    "# Function to divide two numbers\n",
    "def divide(num1, num2):\n",
    "    return num1 / num2\n",
    "  \n",
    "#selecting math operation\n",
    "select = int(input(\"Select operations form 1, 2, 3, 4 :\"))\n"
   ]
  },
  {
   "cell_type": "code",
   "execution_count": 7,
   "id": "d6fdc21a",
   "metadata": {},
   "outputs": [
    {
     "name": "stdout",
     "output_type": "stream",
     "text": [
      "Enter first number: 1\n",
      "Enter second number: 1\n",
      "Select operations form 1, 2, 3, 4 :1\n",
      "1 + 1 = 2\n"
     ]
    }
   ],
   "source": [
    "#based on number given by user do the math operation\n",
    "\n",
    "num1 = int(input(\"Enter first number: \"))\n",
    "num2 = int(input(\"Enter second number: \"))\n",
    "\n",
    "# Function to add two numbers \n",
    "def add(num1, num2):\n",
    "    return num1 + num2\n",
    "  \n",
    "# Function to subtract two numbers \n",
    "def subtract(num1, num2):\n",
    "    return num1 - num2\n",
    "  \n",
    "# Function to multiply two numbers\n",
    "def multiply(num1, num2):\n",
    "    return num1 * num2\n",
    "  \n",
    "# Function to divide two numbers\n",
    "def divide(num1, num2):\n",
    "    return num1 / num2\n",
    "  \n",
    "#selecting math operation\n",
    "select = int(input(\"Select operations form 1, 2, 3, 4 :\"))\n",
    "  \n",
    "#Condition for the Math operation \n",
    "if select == 1:\n",
    "    print(num1, \"+\", num2, \"=\",\n",
    "                    add(num1, num2))\n",
    "  \n",
    "elif select == 2:\n",
    "    print(num1, \"-\", num2, \"=\",\n",
    "                    subtract(num1, num2))\n",
    "  \n",
    "elif select == 3:\n",
    "    print(num1, \"*\", num2, \"=\",\n",
    "                    multiply(num1, num2))\n",
    "  \n",
    "elif select == 4:\n",
    "    print(num1, \"/\", num2, \"=\",\n",
    "                    divide(num1, num2))\n",
    "else:\n",
    "    print(\"Invalid input\")"
   ]
  },
  {
   "cell_type": "code",
   "execution_count": null,
   "id": "e85e24ce",
   "metadata": {},
   "outputs": [],
   "source": []
  }
 ],
 "metadata": {
  "kernelspec": {
   "display_name": "Python 3",
   "language": "python",
   "name": "python3"
  },
  "language_info": {
   "codemirror_mode": {
    "name": "ipython",
    "version": 3
   },
   "file_extension": ".py",
   "mimetype": "text/x-python",
   "name": "python",
   "nbconvert_exporter": "python",
   "pygments_lexer": "ipython3",
   "version": "3.8.8"
  }
 },
 "nbformat": 4,
 "nbformat_minor": 5
}
