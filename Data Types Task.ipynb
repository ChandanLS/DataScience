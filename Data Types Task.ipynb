{
 "cells": [
  {
   "cell_type": "code",
   "execution_count": 4,
   "id": "4d4f6439",
   "metadata": {},
   "outputs": [
    {
     "name": "stdout",
     "output_type": "stream",
     "text": [
      "CHANDAN LS\n"
     ]
    }
   ],
   "source": [
    "#Task-O1\n",
    "\n",
    "#Inbuilt Functions\n",
    "#Upper Case Inbuilt Function\n",
    "a=\"Chandan LS\"\n",
    "print(a.upper())"
   ]
  },
  {
   "cell_type": "code",
   "execution_count": 9,
   "id": "2d345bb1",
   "metadata": {},
   "outputs": [
    {
     "name": "stdout",
     "output_type": "stream",
     "text": [
      "chandan ls\n"
     ]
    }
   ],
   "source": [
    "#Lower Case Inbuilt Function\n",
    "a=\"CHANDAN LS\"\n",
    "print(a.lower())"
   ]
  },
  {
   "cell_type": "code",
   "execution_count": 10,
   "id": "1d13fc0c",
   "metadata": {},
   "outputs": [
    {
     "name": "stdout",
     "output_type": "stream",
     "text": [
      "CHANDAN LS\n"
     ]
    }
   ],
   "source": [
    "print(a)"
   ]
  },
  {
   "cell_type": "code",
   "execution_count": 13,
   "id": "fbfe5e86",
   "metadata": {},
   "outputs": [
    {
     "name": "stdout",
     "output_type": "stream",
     "text": [
      "True\n"
     ]
    }
   ],
   "source": [
    "#Startswith\n",
    "a=\"CHANDAN LS\"\n",
    "print(a.startswith('C'))"
   ]
  },
  {
   "cell_type": "code",
   "execution_count": 16,
   "id": "c52607d1",
   "metadata": {},
   "outputs": [
    {
     "name": "stdout",
     "output_type": "stream",
     "text": [
      "True\n"
     ]
    }
   ],
   "source": [
    "#Endswith\n",
    "a=\"CHANDAN LS\"\n",
    "print(a.endswith('S'))"
   ]
  },
  {
   "cell_type": "code",
   "execution_count": 21,
   "id": "556362f8",
   "metadata": {},
   "outputs": [
    {
     "name": "stdout",
     "output_type": "stream",
     "text": [
      "Chandan ls\n"
     ]
    }
   ],
   "source": [
    "#Capitalising the first letter of the word\n",
    "a=\"chandan LS\"\n",
    "print(a.capitalize())"
   ]
  },
  {
   "cell_type": "code",
   "execution_count": 22,
   "id": "0793070a",
   "metadata": {},
   "outputs": [
    {
     "name": "stdout",
     "output_type": "stream",
     "text": [
      "0b1010\n"
     ]
    }
   ],
   "source": [
    "#Binary Functions\n",
    "x =  10  \n",
    "y =  bin(x)  \n",
    "print (y)  \n"
   ]
  },
  {
   "cell_type": "code",
   "execution_count": 24,
   "id": "24755c52",
   "metadata": {},
   "outputs": [
    {
     "name": "stdout",
     "output_type": "stream",
     "text": [
      "21\n"
     ]
    }
   ],
   "source": [
    "#Sum Function\n",
    "s = sum([1, 2,4,4,5,5 ])  \n",
    "print(s)  "
   ]
  },
  {
   "cell_type": "code",
   "execution_count": 26,
   "id": "073114e4",
   "metadata": {},
   "outputs": [
    {
     "name": "stdout",
     "output_type": "stream",
     "text": [
      "9.0\n"
     ]
    }
   ],
   "source": [
    "#Float\n",
    "print(float(9))  "
   ]
  },
  {
   "cell_type": "code",
   "execution_count": 31,
   "id": "8dc11430",
   "metadata": {},
   "outputs": [
    {
     "name": "stdout",
     "output_type": "stream",
     "text": [
      "1\n",
      "2\n",
      "3\n",
      "4\n",
      "5\n"
     ]
    }
   ],
   "source": [
    "#Iterator Function\n",
    "list = [1,2,3,4,5]  \n",
    "  \n",
    "listIter = iter(list)  \n",
    "print(next(listIter))\n",
    "print(next(listIter))  \n",
    "print(next(listIter))\n",
    "print(next(listIter))  \n",
    "print(next(listIter))  "
   ]
  },
  {
   "cell_type": "code",
   "execution_count": 33,
   "id": "f3075038",
   "metadata": {},
   "outputs": [
    {
     "name": "stdout",
     "output_type": "stream",
     "text": [
      " to\n"
     ]
    }
   ],
   "source": [
    "#Task-02\n",
    "\n",
    "Str1=\"Welcome to python\"\n",
    "text=Str1[7:10]\n",
    "print(text)"
   ]
  },
  {
   "cell_type": "code",
   "execution_count": null,
   "id": "750e211a",
   "metadata": {},
   "outputs": [],
   "source": []
  }
 ],
 "metadata": {
  "kernelspec": {
   "display_name": "Python 3",
   "language": "python",
   "name": "python3"
  },
  "language_info": {
   "codemirror_mode": {
    "name": "ipython",
    "version": 3
   },
   "file_extension": ".py",
   "mimetype": "text/x-python",
   "name": "python",
   "nbconvert_exporter": "python",
   "pygments_lexer": "ipython3",
   "version": "3.8.8"
  }
 },
 "nbformat": 4,
 "nbformat_minor": 5
}
